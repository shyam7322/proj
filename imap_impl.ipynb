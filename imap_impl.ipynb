{
 "cells": [
  {
   "cell_type": "code",
   "execution_count": 1,
   "metadata": {},
   "outputs": [
    {
     "ename": "ModuleNotFoundError",
     "evalue": "No module named 'rsa_impl'",
     "output_type": "error",
     "traceback": [
      "\u001b[1;31m---------------------------------------------------------------------------\u001b[0m",
      "\u001b[1;31mModuleNotFoundError\u001b[0m                       Traceback (most recent call last)",
      "\u001b[1;32m<ipython-input-1-e96e5b6cf9a1>\u001b[0m in \u001b[0;36m<module>\u001b[1;34m\u001b[0m\n\u001b[0;32m      4\u001b[0m \u001b[1;32mimport\u001b[0m \u001b[0mwebbrowser\u001b[0m\u001b[1;33m\u001b[0m\u001b[1;33m\u001b[0m\u001b[0m\n\u001b[0;32m      5\u001b[0m \u001b[1;32mimport\u001b[0m \u001b[0mos\u001b[0m\u001b[1;33m\u001b[0m\u001b[1;33m\u001b[0m\u001b[0m\n\u001b[1;32m----> 6\u001b[1;33m \u001b[1;32mimport\u001b[0m \u001b[0mrsa_impl\u001b[0m\u001b[1;33m\u001b[0m\u001b[1;33m\u001b[0m\u001b[0m\n\u001b[0m\u001b[0;32m      7\u001b[0m \u001b[1;32mimport\u001b[0m \u001b[0mpickle\u001b[0m\u001b[1;33m\u001b[0m\u001b[1;33m\u001b[0m\u001b[0m\n",
      "\u001b[1;31mModuleNotFoundError\u001b[0m: No module named 'rsa_impl'"
     ]
    }
   ],
   "source": [
    "import imaplib\n",
    "import email\n",
    "from email.header import decode_header\n",
    "import webbrowser\n",
    "import os\n",
    "import rsa_impl\n",
    "import pickle"
   ]
  },
  {
   "cell_type": "code",
   "execution_count": null,
   "metadata": {},
   "outputs": [],
   "source": [
    "import tkinter as tk\n",
    "import tkinter.font as tkFont"
   ]
  },
  {
   "cell_type": "code",
   "execution_count": null,
   "metadata": {},
   "outputs": [],
   "source": [
    "class App:\n",
    "    def __init__(self, root):\n",
    "        #setting title\n",
    "        root.title(\"undefined\")\n",
    "        #setting window size\n",
    "        width=600\n",
    "        height=500\n",
    "        screenwidth = root.winfo_screenwidth()\n",
    "        screenheight = root.winfo_screenheight()\n",
    "        alignstr = '%dx%d+%d+%d' % (width, height, (screenwidth - width) / 2, (screenheight - height) / 2)\n",
    "        root.geometry(alignstr)\n",
    "        root.resizable(width=False, height=False)\n",
    "        GLabel_183=tk.Label(root)\n",
    "        ft = tkFont.Font(family='Times',size=10)\n",
    "        GLabel_183[\"font\"] = ft\n",
    "        GLabel_183[\"fg\"] = \"#333333\"\n",
    "        GLabel_183[\"justify\"] = \"center\"\n",
    "        GLabel_183[\"text\"] = \"Mail received:\"\n",
    "        GLabel_183.place(x=90,y=160,width=100,height=42)\n",
    "        GLabel_120=tk.Label(root)\n",
    "        ft = tkFont.Font(family='Times',size=10)\n",
    "        GLabel_120[\"font\"] = ft\n",
    "        GLabel_120[\"fg\"] = \"#333333\"\n",
    "        GLabel_120[\"justify\"] = \"center\"\n",
    "        GLabel_120[\"text\"] = \"Developed by shyam yadav\"\n",
    "        GLabel_120.place(x=160,y=40,width=214,height=30)\n",
    "        GLabel_554=tk.Label(root)\n",
    "        ft = tkFont.Font(family='Times',size=10)\n",
    "        GLabel_554[\"font\"] = ft\n",
    "        GLabel_554[\"fg\"] = \"#333333\"\n",
    "        GLabel_554[\"justify\"] = \"center\"\n",
    "        GLabel_554[\"text\"] = \"Result: \"\n",
    "        GLabel_554.place(x=100,y=310,width=70,height=25)\n",
    "    def GButton_63_command(self):\n",
    "        status, messages = imap.search(None, 'FROM \"shyam0703123@gmail.com\"')\n",
    "        messages = messages[0].split(b' ')\n",
    "        for mail in messages:\n",
    "            _, msg = imap.fetch(mail, \"(RFC822)\")\n",
    "            # you can delete the for loop for performance if you have a long list of emails\n",
    "            # because it is only for printing the SUBJECT of target email to delete\n",
    "            for response in msg:\n",
    "                if isinstance(response, tuple):\n",
    "                    msg = email.message_from_bytes(response[1])\n",
    "                    # decode the email subject\n",
    "                    subject = decode_header(msg[\"Subject\"])[0][0]\n",
    "                    if isinstance(subject, bytes):\n",
    "                        # if it's a bytes type, decode to str\n",
    "                        subject = subject.decode()\n",
    "                    print(\"Deleting\", subject)\n",
    "            # mark the mail as deleted\n",
    "            imap.store(mail, \"+FLAGS\", \"\\\\Deleted\")\n",
    "        # permanently remove mails that are marked as deleted\n",
    "        # from the selected mailbox (in this case, INBOX)\n",
    "        imap.expunge()\n",
    "        root.destroy()"
   ]
  },
  {
   "cell_type": "code",
   "execution_count": null,
   "metadata": {},
   "outputs": [],
   "source": [
    "    def GButton_58_command(self):\n",
    "        root.destroy()"
   ]
  },
  {
   "cell_type": "code",
   "execution_count": null,
   "metadata": {},
   "outputs": [],
   "source": [
    "with open('keys.txt','r') as f:\n",
    "    d,e,n = f.read().split()"
   ]
  },
  {
   "cell_type": "code",
   "execution_count": null,
   "metadata": {},
   "outputs": [],
   "source": [
    "d = int(d)\n",
    "e = int(e)\n",
    "n = int(n)"
   ]
  },
  {
   "cell_type": "code",
   "execution_count": null,
   "metadata": {},
   "outputs": [],
   "source": [
    "private, public = (d,n),(e,n)"
   ]
  },
  {
   "cell_type": "code",
   "execution_count": null,
   "metadata": {},
   "outputs": [],
   "source": [
    "user = 'majorprojectgehu@gmail.com'\n",
    "password = 'gqcc tbia odlu hjim'\n",
    "host = 'imap.gmail.com'"
   ]
  },
  {
   "cell_type": "markdown",
   "metadata": {},
   "source": [
    "Connect securely with SSL"
   ]
  },
  {
   "cell_type": "code",
   "execution_count": null,
   "metadata": {},
   "outputs": [],
   "source": [
    "imap = imaplib.IMAP4_SSL(host)"
   ]
  },
  {
   "cell_type": "markdown",
   "metadata": {},
   "source": [
    " Login to remote server"
   ]
  },
  {
   "cell_type": "code",
   "execution_count": null,
   "metadata": {},
   "outputs": [],
   "source": [
    "imap.login(user, password)\n",
    "#imap.debug = 5\n",
    "status, messages = imap.select(\"INBOX\")\n",
    "# number of top emails to fetch\n",
    "N = 1\n",
    "# total number of emails\n",
    "messages = int(messages[0])"
   ]
  },
  {
   "cell_type": "code",
   "execution_count": null,
   "metadata": {},
   "outputs": [],
   "source": [
    "def clean(text):\n",
    "    # clean text for creating a folder\n",
    "    return \"\".join(c if c.isalnum() else \"_\" for c in text)"
   ]
  },
  {
   "cell_type": "code",
   "execution_count": null,
   "metadata": {},
   "outputs": [],
   "source": [
    "for i in range(messages, messages-N, -1):\n",
    "    # fetch the email message by ID\n",
    "    res, msg = imap.fetch(str(i), \"(RFC822)\")\n",
    "    for response in msg:\n",
    "        if isinstance(response, tuple):\n",
    "            # parse a bytes email into a message object\n",
    "            msg = email.message_from_bytes(response[1])\n",
    "            # decode the email subject\n",
    "            subject, encoding = decode_header(msg[\"Subject\"])[0]\n",
    "            if isinstance(subject, bytes):\n",
    "                # if it's a bytes, decode to str\n",
    "                subject = subject.decode(encoding)\n",
    "            # decode email sender\n",
    "            From, encoding = decode_header(msg.get(\"From\"))[0]\n",
    "            if isinstance(From, bytes):\n",
    "                From = From.decode(encoding)\n",
    "            print(\"Subject:\", subject)\n",
    "            print(\"From:\", From)\n",
    "            # if the email message is multipart\n",
    "            if msg.is_multipart():\n",
    "                # iterate over email parts\n",
    "                for part in msg.walk():\n",
    "                    # extract content type of email\n",
    "                    content_type = part.get_content_type()\n",
    "                    content_disposition = str(part.get(\"Content-Disposition\"))\n",
    "                    try:\n",
    "                        # get the email body\n",
    "                        body = part.get_payload(decode=True).decode()\n",
    "                    except:\n",
    "                        pass\n",
    "                    if content_type == \"text/plain\" and \"attachment\" not in content_disposition:\n",
    "                        # print text/plain emails and skip attachments\n",
    "                        #print(body)\n",
    "                        print()\n",
    "                    elif \"attachment\" in content_disposition:\n",
    "                        # download attachment\n",
    "                        filename = part.get_filename()\n",
    "                        if filename:\n",
    "                            folder_name = clean(subject)\n",
    "                            if not os.path.isdir(folder_name):\n",
    "                                # make a folder for this email (named after the subject)\n",
    "                                os.mkdir(folder_name)\n",
    "                            filepath = os.path.join(folder_name, filename)\n",
    "                            # download attachment and save it\n",
    "                            open(filepath, \"wb\").write(part.get_payload(decode=True))\n",
    "            else:\n",
    "                # extract content type of email\n",
    "                content_type = msg.get_content_type()\n",
    "                # get the email body\n",
    "                body = msg.get_payload(decode=True).decode()\n",
    "                if content_type == \"text/plain\":\n",
    "                    # print only text email parts\n",
    "                    print(body)\n",
    "            #print(content_type)\n",
    "            #print(body)\n",
    "            if content_type == \"text/html\":\n",
    "                # if it's HTML, create a new HTML file and open it in browser\n",
    "                folder_name = clean(subject)\n",
    "                if not os.path.isdir(folder_name):\n",
    "                    # make a folder for this email (named after the subject)\n",
    "                    os.mkdir(folder_name)\n",
    "                filename = \"index.html\"\n",
    "                filepath = os.path.join(folder_name, filename)\n",
    "                # write the file\n",
    "                open(filepath, \"w\").write(body)\n",
    "                # open in the default browser\n",
    "                webbrowser.open(filepath)\n",
    "            print(\"=\"*100)"
   ]
  },
  {
   "cell_type": "markdown",
   "metadata": {},
   "source": [
    "oad model"
   ]
  },
  {
   "cell_type": "code",
   "execution_count": null,
   "metadata": {},
   "outputs": [],
   "source": [
    "model = pickle.load(open('model.pkl', 'rb'))\n",
    "body = body.split()\n",
    "body = [int(i) for i in body]\n",
    "body = rsa_impl.decrypt(private,body)\n",
    "print(body)\n",
    "input_mail = [body]"
   ]
  },
  {
   "cell_type": "markdown",
   "metadata": {},
   "source": [
    "convert text to feature vectors and load vectorizer"
   ]
  },
  {
   "cell_type": "code",
   "execution_count": null,
   "metadata": {},
   "outputs": [],
   "source": [
    "feature_extraction = pickle.load(open('vectorizer.pickle', 'rb'))\n",
    "input_data_features = feature_extraction.transform(input_mail)"
   ]
  },
  {
   "cell_type": "markdown",
   "metadata": {},
   "source": [
    "making prediction"
   ]
  },
  {
   "cell_type": "code",
   "execution_count": null,
   "metadata": {},
   "outputs": [],
   "source": [
    "prediction = model.predict(input_data_features)\n",
    "print(\"It is a\",end=' ')"
   ]
  },
  {
   "cell_type": "code",
   "execution_count": null,
   "metadata": {},
   "outputs": [],
   "source": [
    "if prediction[0] == 1:\n",
    "    print('Ham mail')\n",
    "    spam_ham = 'Ham'\n",
    "else:\n",
    "    print('Spam mail')\n",
    "    spam_ham = 'Spam'"
   ]
  },
  {
   "cell_type": "code",
   "execution_count": null,
   "metadata": {},
   "outputs": [],
   "source": [
    "print(\"=\"*100)"
   ]
  },
  {
   "cell_type": "code",
   "execution_count": null,
   "metadata": {},
   "outputs": [],
   "source": [
    "root = tk.Tk()\n",
    "app = App(root)\n",
    "GMessage_468=tk.Message(root)\n",
    "ft = tkFont.Font(family='Times',size=10)\n",
    "GMessage_468[\"font\"] = ft\n",
    "GMessage_468[\"fg\"] = \"#333333\"\n",
    "GMessage_468[\"justify\"] = \"center\"\n",
    "GMessage_468[\"text\"] = body\n",
    "GMessage_468.place(x=230,y=90,width=270,height=199)"
   ]
  },
  {
   "cell_type": "code",
   "execution_count": null,
   "metadata": {},
   "outputs": [],
   "source": [
    "GLabel_932=tk.Label(root)\n",
    "ft = tkFont.Font(family='Times',size=10)\n",
    "GLabel_932[\"font\"] = ft\n",
    "GLabel_932[\"fg\"] = \"#333333\"\n",
    "GLabel_932[\"justify\"] = \"center\"\n",
    "GLabel_932[\"text\"] = spam_ham\n",
    "GLabel_932.place(x=320,y=310,width=70,height=25)"
   ]
  },
  {
   "cell_type": "code",
   "execution_count": null,
   "metadata": {},
   "outputs": [],
   "source": [
    "if spam_ham=='Spam':\n",
    "    GLabel_831=tk.Label(root)\n",
    "    ft = tkFont.Font(family='Times',size=10)\n",
    "    GLabel_831[\"font\"] = ft\n",
    "    GLabel_831[\"fg\"] = \"#333333\"\n",
    "    GLabel_831[\"justify\"] = \"center\"\n",
    "    GLabel_831[\"text\"] = \"Delete the mail?(yes/no)\"\n",
    "    GLabel_831.place(x=90,y=400,width=130,height=41)\n",
    "    GButton_63=tk.Button(root)\n",
    "    GButton_63[\"bg\"] = \"#f0f0f0\"\n",
    "    ft = tkFont.Font(family='Times',size=10)\n",
    "    GButton_63[\"font\"] = ft\n",
    "    GButton_63[\"fg\"] = \"#000000\"\n",
    "    GButton_63[\"justify\"] = \"center\"\n",
    "    GButton_63[\"text\"] = \"Yes\"\n",
    "    GButton_63.place(x=290,y=410,width=70,height=25)\n",
    "    GButton_63[\"command\"] = app.GButton_63_command\n",
    "    GButton_58=tk.Button(root)\n",
    "    GButton_58[\"bg\"] = \"#f0f0f0\"\n",
    "    ft = tkFont.Font(family='Times',size=10)\n",
    "    GButton_58[\"font\"] = ft\n",
    "    GButton_58[\"fg\"] = \"#000000\"\n",
    "    GButton_58[\"justify\"] = \"center\"\n",
    "    GButton_58[\"text\"] = \"No\"\n",
    "    GButton_58.place(x=400,y=410,width=70,height=25)\n",
    "    GButton_58[\"command\"] = app.GButton_58_command\n",
    "root.mainloop()"
   ]
  },
  {
   "cell_type": "markdown",
   "metadata": {},
   "source": [
    "close the connection and logout"
   ]
  },
  {
   "cell_type": "code",
   "execution_count": null,
   "metadata": {},
   "outputs": [],
   "source": [
    "imap.close()\n",
    "imap.logout()"
   ]
  }
 ],
 "metadata": {
  "kernelspec": {
   "display_name": "Python 3",
   "language": "python",
   "name": "python3"
  },
  "language_info": {
   "codemirror_mode": {
    "name": "ipython",
    "version": 3
   },
   "file_extension": ".py",
   "mimetype": "text/x-python",
   "name": "python",
   "nbconvert_exporter": "python",
   "pygments_lexer": "ipython3",
   "version": "3.7.6"
  }
 },
 "nbformat": 4,
 "nbformat_minor": 2
}
